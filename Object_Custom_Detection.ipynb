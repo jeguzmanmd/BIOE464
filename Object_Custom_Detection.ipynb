{
  "nbformat": 4,
  "nbformat_minor": 0,
  "metadata": {
    "colab": {
      "name": "Object_Custom_Detection.ipynb",
      "provenance": [],
      "authorship_tag": "ABX9TyNW5kqnFm0Hm0Ro6ESPzpG+",
      "include_colab_link": true
    },
    "kernelspec": {
      "name": "python3",
      "display_name": "Python 3"
    },
    "language_info": {
      "name": "python"
    },
    "accelerator": "GPU"
  },
  "cells": [
    {
      "cell_type": "markdown",
      "metadata": {
        "id": "view-in-github",
        "colab_type": "text"
      },
      "source": [
        "<a href=\"https://colab.research.google.com/github/jeguzmanmd/BIOE464/blob/master/Object_Custom_Detection.ipynb\" target=\"_parent\"><img src=\"https://colab.research.google.com/assets/colab-badge.svg\" alt=\"Open In Colab\"/></a>"
      ]
    },
    {
      "cell_type": "code",
      "metadata": {
        "id": "GJm2cmENWcOI",
        "colab": {
          "base_uri": "https://localhost:8080/"
        },
        "outputId": "c9f8965c-fca8-4ebd-c34d-8e9439f393d1"
      },
      "source": [
        "from google.colab import drive\n",
        "drive.mount('/content/drive')"
      ],
      "execution_count": null,
      "outputs": [
        {
          "output_type": "stream",
          "text": [
            "Mounted at /content/drive\n"
          ],
          "name": "stdout"
        }
      ]
    },
    {
      "cell_type": "code",
      "metadata": {
        "id": "0mSKQSabWmm_",
        "colab": {
          "base_uri": "https://localhost:8080/"
        },
        "outputId": "51aa1e6b-3235-45ff-aab4-94069180f4d2"
      },
      "source": [
        "%cd/content/drive/MyDrive/Yolo_custom_model_training"
      ],
      "execution_count": null,
      "outputs": [
        {
          "output_type": "stream",
          "text": [
            "/content/drive/MyDrive/Yolo_custom_model_training\n"
          ],
          "name": "stdout"
        }
      ]
    },
    {
      "cell_type": "code",
      "metadata": {
        "id": "HFFwO1aDWqXX",
        "colab": {
          "base_uri": "https://localhost:8080/"
        },
        "outputId": "c3e4f05a-c20d-4c39-ab68-4996c5b19a0e"
      },
      "source": [
        "%cd/content/drive/MyDrive/Yolo_custom_model_training/Darknet"
      ],
      "execution_count": null,
      "outputs": [
        {
          "output_type": "stream",
          "text": [
            "/content/drive/MyDrive/Yolo_custom_model_training/Darknet\n"
          ],
          "name": "stdout"
        }
      ]
    },
    {
      "cell_type": "code",
      "metadata": {
        "id": "5XCajarMWwku"
      },
      "source": [
        "!chmod +x darknet*"
      ],
      "execution_count": null,
      "outputs": []
    },
    {
      "cell_type": "code",
      "metadata": {
        "id": "tWnN5lqsWz76"
      },
      "source": [
        "!make"
      ],
      "execution_count": null,
      "outputs": []
    },
    {
      "cell_type": "code",
      "metadata": {
        "id": "aJZct-hdW3HH"
      },
      "source": [
        "%cd/content/drive/MyDrive/Yolo_custom_model_training"
      ],
      "execution_count": null,
      "outputs": []
    },
    {
      "cell_type": "code",
      "metadata": {
        "id": "A23gBCTdW5cc"
      },
      "source": [
        "!python xray/creating-files-data-and-name.py"
      ],
      "execution_count": null,
      "outputs": []
    },
    {
      "cell_type": "code",
      "metadata": {
        "id": "7P4wV_PpW7wm"
      },
      "source": [
        "!python xray/creating-train-and-test-txt-files.py"
      ],
      "execution_count": null,
      "outputs": []
    },
    {
      "cell_type": "code",
      "metadata": {
        "id": "TXS37GazW_VK"
      },
      "source": [
        "%cd/content/drive/MyDrive/Yolo_custom_model_training"
      ],
      "execution_count": null,
      "outputs": []
    },
    {
      "cell_type": "code",
      "metadata": {
        "id": "ut6eXfgGXDgn"
      },
      "source": [
        "!Darknet/darknet"
      ],
      "execution_count": null,
      "outputs": []
    },
    {
      "cell_type": "code",
      "metadata": {
        "id": "2lBbstnjXHMj"
      },
      "source": [
        "!Darknet/darknet detector train xray/labelled_data.data Darknet/cfg/yolov3_custom.cfg Custom_weight/darknet53.conv.74 -dont_show"
      ],
      "execution_count": null,
      "outputs": []
    },
    {
      "cell_type": "code",
      "metadata": {
        "id": "1EClCuODXMV2"
      },
      "source": [
        "!ln -s /content/drive/MyDrive/YOLOv3_weight/backup/content/darknet"
      ],
      "execution_count": null,
      "outputs": []
    }
  ]
}