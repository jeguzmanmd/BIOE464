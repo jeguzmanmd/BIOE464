{
  "nbformat": 4,
  "nbformat_minor": 0,
  "metadata": {
    "kernelspec": {
      "display_name": "Python 3",
      "language": "python",
      "name": "python3"
    },
    "language_info": {
      "codemirror_mode": {
        "name": "ipython",
        "version": 3
      },
      "file_extension": ".py",
      "mimetype": "text/x-python",
      "name": "python",
      "nbconvert_exporter": "python",
      "pygments_lexer": "ipython3",
      "version": "3.8.2"
    },
    "colab": {
      "name": "Yolo_notebook.ipynb",
      "provenance": [],
      "include_colab_link": true
    }
  },
  "cells": [
    {
      "cell_type": "markdown",
      "metadata": {
        "id": "view-in-github",
        "colab_type": "text"
      },
      "source": [
        "<a href=\"https://colab.research.google.com/github/jeguzmanmd/BIOE464/blob/master/Yolo_notebook.ipynb\" target=\"_parent\"><img src=\"https://colab.research.google.com/assets/colab-badge.svg\" alt=\"Open In Colab\"/></a>"
      ]
    },
    {
      "cell_type": "code",
      "metadata": {
        "id": "KpPBrbkcmFeh"
      },
      "source": [
        "## Modules\n",
        "import cv2\n",
        "import numpy as np\n",
        "import matplotlib.pyplot as plt"
      ],
      "execution_count": null,
      "outputs": []
    },
    {
      "cell_type": "code",
      "metadata": {
        "id": "NkL4nT4fmFep"
      },
      "source": [
        "## provide the path for testing config file and trained model from google colab\n",
        "net = cv2.dnn.readNetFromDarknet(\"yolov3_custom.cfg\",r\"yolov3_custom_10000.weights\")\n"
      ],
      "execution_count": null,
      "outputs": []
    },
    {
      "cell_type": "code",
      "metadata": {
        "id": "2UMC-7ncmFeq"
      },
      "source": [
        "# Classes\n",
        "classes = ['Right','Transverse','Left','Sigmoid','Rectum']"
      ],
      "execution_count": null,
      "outputs": []
    },
    {
      "cell_type": "code",
      "metadata": {
        "id": "uY6rKG-5mFeq"
      },
      "source": [
        "## Capture of the image\n",
        "my_img=cv2.imread('80.jpg')\n",
        "my_img=cv2.resize(my_img,(1280,720))"
      ],
      "execution_count": null,
      "outputs": []
    },
    {
      "cell_type": "code",
      "metadata": {
        "id": "161-f60zmFeq"
      },
      "source": [
        "plt.imshow(my_img)"
      ],
      "execution_count": null,
      "outputs": []
    },
    {
      "cell_type": "code",
      "metadata": {
        "id": "IKgc_WG3mFer"
      },
      "source": [
        "# Referecnce for boxes coordinates\n",
        "ht, wt, _ = my_img.shape"
      ],
      "execution_count": null,
      "outputs": []
    },
    {
      "cell_type": "code",
      "metadata": {
        "id": "_EsPsWNmmFer"
      },
      "source": [
        "# Set up of the image for analysis\n",
        "blob = cv2.dnn.blobFromImage(my_img, 1/255,(416,416),(0,0,0),swapRB = True,crop= False)"
      ],
      "execution_count": null,
      "outputs": []
    },
    {
      "cell_type": "code",
      "metadata": {
        "id": "nSkfSswlmFer"
      },
      "source": [
        "blob.shape"
      ],
      "execution_count": null,
      "outputs": []
    },
    {
      "cell_type": "code",
      "metadata": {
        "id": "gPU0CG59mFes"
      },
      "source": [
        "# Location of detected objects and Application of confidences \n",
        "net.setInput(blob)\n",
        "\n",
        "output_layers_name = net.getUnconnectedOutLayersNames()\n",
        "\n",
        "layerOutputs = net.forward(output_layers_name)\n",
        "\n",
        "boxes =[]\n",
        "confidences = []\n",
        "class_ids = []\n",
        "\n",
        "for output in layerOutputs:\n",
        "    for detection in output:\n",
        "        score = detection[5:]\n",
        "        class_id = np.argmax(score)\n",
        "        confidence = score[class_id]\n",
        "        if confidence > 0.2:\n",
        "            center_x = int(detection[0] * wt)\n",
        "            center_y = int(detection[1] * ht)\n",
        "            w = int(detection[2] * wt)\n",
        "            h = int(detection[3]* ht)\n",
        "            x = int(center_x - w/2)\n",
        "            y = int(center_y - h/2)\n",
        "            boxes.append([x,y,w,h])\n",
        "            confidences.append((float(confidence)))\n",
        "            class_ids.append(class_id)\n",
        "            "
      ],
      "execution_count": null,
      "outputs": []
    },
    {
      "cell_type": "code",
      "metadata": {
        "id": "WH6W6fTNmFet"
      },
      "source": [
        "indexes = cv2.dnn.NMSBoxes(boxes,confidences,.2,.2)\n",
        "font = cv2.FONT_HERSHEY_PLAIN\n",
        "colors = np.random.uniform(0,255,size =(len(boxes),3))\n",
        "if  len(indexes)>0:\n",
        "    for i in indexes.flatten():\n",
        "        x,y,w,h = boxes[i]\n",
        "        label = str(classes[class_ids[i]])\n",
        "        confidence = str(round(confidences[i],2))\n",
        "        color = colors[i]\n",
        "        cv2.rectangle(my_img,(x,y),(x+w,y+h),color,2)\n",
        "        cv2.putText(my_img,label + \" \" + confidence, (x,y+100),font,2,color,2)\n",
        "        print(boxes, class_ids[i])"
      ],
      "execution_count": null,
      "outputs": []
    },
    {
      "cell_type": "code",
      "metadata": {
        "id": "CE05toWumFet"
      },
      "source": [
        "cv2.imshow('img',my_img)\n",
        "filename = 'imgbox.jpg'\n",
        "cv2.imwrite(filename, my_img)\n",
        "cv2.waitKey(0)\n",
        "cv2.destroyAllWindows()"
      ],
      "execution_count": null,
      "outputs": []
    }
  ]
}